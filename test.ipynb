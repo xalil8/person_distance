{
 "cells": [
  {
   "cell_type": "code",
   "execution_count": null,
   "metadata": {},
   "outputs": [],
   "source": [
    "# Example nested dictionary structure\n",
    "sliding_windows = {\n",
    "    \"1-3\": {\n",
    "        \"elements\": [True, False, True, False, True, False, True, False, True, False,\n",
    "                     True, False, True, False, True, False, True],\n",
    "        \"size\": None\n",
    "    },\n",
    "    \"2-3\": {\n",
    "        \"elements\": [ False, False, True, False, False, True, False,\n",
    "                     True, False, True, False, True, False, True, False, True, False],\n",
    "        \"size\": None\n",
    "    },\n",
    "    \"4-5\": {\n",
    "        \"elements\": [True, False, True, False, True, False, True],\n",
    "        \"size\": None\n",
    "    },\n",
    "    \"5-6\": {\n",
    "        \"elements\": [True, True, False, True, False],\n",
    "        \"size\": None\n",
    "    },\n",
    "    \"6-7\": {\n",
    "        \"elements\": [True, False, True, False, True, False, True, False, True, False,\n",
    "                     True, False, True, False, True, False, True, False, True, False,\n",
    "                     True, False, True, False, True, False, True, False, True, False,\n",
    "                     True, False, True, False, True, False, True, False, True, False],\n",
    "        \"size\": None\n",
    "    }\n",
    "}\n"
   ]
  },
  {
   "cell_type": "code",
   "execution_count": null,
   "metadata": {},
   "outputs": [],
   "source": [
    "for pair_key, pair_data in sliding_windows.items():\n",
    "    sliding_windows[pair_key][\"size\"] = len(sliding_windows[pair_key][\"elements\"])\n",
    "\n",
    "# Print the nested dictionary structure\n",
    "for pair_key, pair_data in sliding_windows.items():\n",
    "    print(sliding_windows[pair_key][\"size\"],len(sliding_windows[pair_key][\"elements\"]))"
   ]
  },
  {
   "cell_type": "code",
   "execution_count": null,
   "metadata": {},
   "outputs": [],
   "source": [
    "sliding_windows[\"1-3\"][\"elements\"] = [True, False, True, False, True, False, True, False, True, False,\n",
    "                                        True, False, True, False, True, False, True, False, True, False,\n",
    "                                        True, False, True, False, True, False, True, False, True, False,\n",
    "                                        True, False, True, False, True, False, True, False, True, False]"
   ]
  },
  {
   "cell_type": "code",
   "execution_count": null,
   "metadata": {},
   "outputs": [],
   "source": [
    "for pair_key, pair_data in sliding_windows.items():\n",
    "    print(sliding_windows[pair_key][\"size\"],len(sliding_windows[pair_key][\"elements\"]))"
   ]
  },
  {
   "cell_type": "code",
   "execution_count": null,
   "metadata": {},
   "outputs": [],
   "source": [
    "\n",
    "keys_to_delete = []  # Create a list to store keys to delete\n",
    "\n",
    "for pair_key, pair_data in sliding_windows.items():\n",
    "    if len(sliding_windows[pair_key][\"elements\"]) == sliding_windows[pair_key][\"size\"] :\n",
    "        print(\"worked\")\n",
    "        keys_to_delete.append(pair_key)\n",
    "    else:\n",
    "        pair_data[\"size\"] = len(pair_data[\"elements\"])\n",
    "\n",
    "# Delete items outside the loop\n",
    "for key in keys_to_delete:\n",
    "    del sliding_windows[key]\n"
   ]
  },
  {
   "cell_type": "code",
   "execution_count": null,
   "metadata": {},
   "outputs": [],
   "source": [
    "for pair_key, pair_data in sliding_windows.items():\n",
    "    print(sliding_windows[pair_key][\"size\"],len(sliding_windows[pair_key][\"elements\"]))\n",
    "    print(\"//////////////////////////////////////////////////\")"
   ]
  },
  {
   "cell_type": "code",
   "execution_count": null,
   "metadata": {},
   "outputs": [],
   "source": [
    "for i in sliding_windows.keys():\n",
    "    print(i)"
   ]
  },
  {
   "cell_type": "code",
   "execution_count": null,
   "metadata": {},
   "outputs": [],
   "source": []
  },
  {
   "cell_type": "code",
   "execution_count": 1,
   "metadata": {},
   "outputs": [],
   "source": [
    "import cv2\n",
    "import numpy as np\n",
    "\n",
    "img = cv2.imread(\"img.png\")\n"
   ]
  },
  {
   "cell_type": "code",
   "execution_count": 2,
   "metadata": {},
   "outputs": [],
   "source": [
    "\n",
    "original_pt = np.float32([[97, 1418], [2533, 1429], [1507, 337], [960, 342]])\n",
    " \n",
    "# 4 Points on the new image\n",
    "new_pt = np.float32([[0,0],[2200,0],[1200,0],[2200,1200]])\n",
    "M = cv2.getPerspectiveTransform(original_pt,new_pt)\n",
    " \n",
    "# Feed into warpAffrine function to perform our skew\n",
    "image = cv2.warpPerspective(img,M,(2000,1000))"
   ]
  },
  {
   "cell_type": "code",
   "execution_count": 3,
   "metadata": {},
   "outputs": [
    {
     "name": "stdout",
     "output_type": "stream",
     "text": [
      "[[-1.36306379e+00 -1.09323797e+00  1.68242863e+03]\n",
      " [ 0.00000000e+00  0.00000000e+00  0.00000000e+00]\n",
      " [-1.12541025e-03  2.35069703e-04  1.00000000e+00]]\n"
     ]
    }
   ],
   "source": [
    "print(M)"
   ]
  },
  {
   "cell_type": "code",
   "execution_count": null,
   "metadata": {},
   "outputs": [],
   "source": [
    "cv2.imshow(\"asdas\",image)\n",
    "cv2.waitKey(0)"
   ]
  },
  {
   "cell_type": "code",
   "execution_count": null,
   "metadata": {},
   "outputs": [],
   "source": []
  }
 ],
 "metadata": {
  "kernelspec": {
   "display_name": "Python 3",
   "language": "python",
   "name": "python3"
  },
  "language_info": {
   "codemirror_mode": {
    "name": "ipython",
    "version": 3
   },
   "file_extension": ".py",
   "mimetype": "text/x-python",
   "name": "python",
   "nbconvert_exporter": "python",
   "pygments_lexer": "ipython3",
   "version": "3.10.8"
  },
  "orig_nbformat": 4
 },
 "nbformat": 4,
 "nbformat_minor": 2
}
