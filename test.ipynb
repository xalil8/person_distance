{
 "cells": [
  {
   "cell_type": "code",
   "execution_count": 47,
   "metadata": {},
   "outputs": [],
   "source": [
    "# Example nested dictionary structure\n",
    "sliding_windows = {\n",
    "    \"1-3\": {\n",
    "        \"elements\": [True, False, True, False, True, False, True, False, True, False,\n",
    "                     True, False, True, False, True, False, True],\n",
    "        \"size\": None\n",
    "    },\n",
    "    \"2-3\": {\n",
    "        \"elements\": [ False, False, True, False, False, True, False,\n",
    "                     True, False, True, False, True, False, True, False, True, False],\n",
    "        \"size\": None\n",
    "    },\n",
    "    \"4-5\": {\n",
    "        \"elements\": [True, False, True, False, True, False, True],\n",
    "        \"size\": None\n",
    "    },\n",
    "    \"5-6\": {\n",
    "        \"elements\": [True, True, False, True, False],\n",
    "        \"size\": None\n",
    "    },\n",
    "    \"6-7\": {\n",
    "        \"elements\": [True, False, True, False, True, False, True, False, True, False,\n",
    "                     True, False, True, False, True, False, True, False, True, False,\n",
    "                     True, False, True, False, True, False, True, False, True, False,\n",
    "                     True, False, True, False, True, False, True, False, True, False],\n",
    "        \"size\": None\n",
    "    }\n",
    "}\n"
   ]
  },
  {
   "cell_type": "code",
   "execution_count": 48,
   "metadata": {},
   "outputs": [
    {
     "name": "stdout",
     "output_type": "stream",
     "text": [
      "17 17\n",
      "17 17\n",
      "7 7\n",
      "5 5\n",
      "40 40\n"
     ]
    }
   ],
   "source": [
    "for pair_key, pair_data in sliding_windows.items():\n",
    "    sliding_windows[pair_key][\"size\"] = len(sliding_windows[pair_key][\"elements\"])\n",
    "\n",
    "# Print the nested dictionary structure\n",
    "for pair_key, pair_data in sliding_windows.items():\n",
    "    print(sliding_windows[pair_key][\"size\"],len(sliding_windows[pair_key][\"elements\"]))"
   ]
  },
  {
   "cell_type": "code",
   "execution_count": 36,
   "metadata": {},
   "outputs": [],
   "source": [
    "sliding_windows[\"1-3\"][\"elements\"] = [True, False, True, False, True, False, True, False, True, False,\n",
    "                                        True, False, True, False, True, False, True, False, True, False,\n",
    "                                        True, False, True, False, True, False, True, False, True, False,\n",
    "                                        True, False, True, False, True, False, True, False, True, False]"
   ]
  },
  {
   "cell_type": "code",
   "execution_count": 37,
   "metadata": {},
   "outputs": [
    {
     "name": "stdout",
     "output_type": "stream",
     "text": [
      "17 40\n",
      "17 17\n",
      "7 7\n",
      "5 5\n",
      "40 40\n"
     ]
    }
   ],
   "source": [
    "for pair_key, pair_data in sliding_windows.items():\n",
    "    print(sliding_windows[pair_key][\"size\"],len(sliding_windows[pair_key][\"elements\"]))"
   ]
  },
  {
   "cell_type": "code",
   "execution_count": 44,
   "metadata": {},
   "outputs": [],
   "source": [
    "\n",
    "keys_to_delete = []  # Create a list to store keys to delete\n",
    "\n",
    "for pair_key, pair_data in sliding_windows.items():\n",
    "    if len(sliding_windows[pair_key][\"elements\"]) == sliding_windows[pair_key][\"size\"] :\n",
    "        print(\"worked\")\n",
    "        keys_to_delete.append(pair_key)\n",
    "    else:\n",
    "        pair_data[\"size\"] = len(pair_data[\"elements\"])\n",
    "\n",
    "# Delete items outside the loop\n",
    "for key in keys_to_delete:\n",
    "    del sliding_windows[key]\n"
   ]
  },
  {
   "cell_type": "code",
   "execution_count": 45,
   "metadata": {},
   "outputs": [
    {
     "name": "stdout",
     "output_type": "stream",
     "text": [
      "17 17\n",
      "17 17\n",
      "7 7\n",
      "5 5\n",
      "40 40\n"
     ]
    }
   ],
   "source": [
    "for pair_key, pair_data in sliding_windows.items():\n",
    "    print(sliding_windows[pair_key][\"size\"],len(sliding_windows[pair_key][\"elements\"]))\n",
    "    print(\"//////////////////////////////////////////////////\")"
   ]
  },
  {
   "cell_type": "code",
   "execution_count": 46,
   "metadata": {},
   "outputs": [
    {
     "name": "stdout",
     "output_type": "stream",
     "text": [
      "1-3\n",
      "2-3\n",
      "4-5\n",
      "5-6\n",
      "6-7\n"
     ]
    }
   ],
   "source": [
    "for i in sliding_windows.keys():\n",
    "    print(i)"
   ]
  }
 ],
 "metadata": {
  "kernelspec": {
   "display_name": "Python 3",
   "language": "python",
   "name": "python3"
  },
  "language_info": {
   "codemirror_mode": {
    "name": "ipython",
    "version": 3
   },
   "file_extension": ".py",
   "mimetype": "text/x-python",
   "name": "python",
   "nbconvert_exporter": "python",
   "pygments_lexer": "ipython3",
   "version": "3.10.8"
  },
  "orig_nbformat": 4
 },
 "nbformat": 4,
 "nbformat_minor": 2
}
